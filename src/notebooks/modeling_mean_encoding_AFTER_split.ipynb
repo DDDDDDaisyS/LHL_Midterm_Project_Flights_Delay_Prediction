{
 "cells": [
  {
   "cell_type": "markdown",
   "metadata": {},
   "source": [
    "# Machine Learning\n",
    "\n",
    "In this file, instructions how to approach the challenge can be found."
   ]
  },
  {
   "cell_type": "code",
   "execution_count": 1,
   "metadata": {},
   "outputs": [
    {
     "name": "stderr",
     "output_type": "stream",
     "text": [
      "C:\\Users\\cfsui\\anaconda3\\lib\\site-packages\\xgboost\\compat.py:36: FutureWarning: pandas.Int64Index is deprecated and will be removed from pandas in a future version. Use pandas.Index with the appropriate dtype instead.\n",
      "  from pandas import MultiIndex, Int64Index\n"
     ]
    }
   ],
   "source": [
    "# import pandas\n",
    "import pandas as pd\n",
    "import numpy as np\n",
    "import copy\n",
    "\n",
    "import seaborn as sns\n",
    "import matplotlib.pyplot as plt\n",
    "\n",
    "from scipy import stats\n",
    "from sklearn.preprocessing import StandardScaler\n",
    "scaler = StandardScaler()\n",
    "from sklearn.decomposition import PCA\n",
    "\n",
    "from sklearn.model_selection import train_test_split, GridSearchCV, cross_validate, cross_val_score\n",
    "from sklearn.linear_model import LinearRegression, Ridge, Lasso\n",
    "from sklearn.ensemble import GradientBoostingRegressor, RandomForestRegressor\n",
    "from sklearn.svm import SVR\n",
    "from xgboost import XGBRegressor, XGBClassifier, plot_importance\n",
    "from sklearn.metrics import r2_score, mean_squared_error\n",
    "\n",
    "import warnings\n",
    "warnings.simplefilter(action='ignore', category=FutureWarning)"
   ]
  },
  {
   "cell_type": "markdown",
   "metadata": {},
   "source": [
    "### Read Preprocessed Data"
   ]
  },
  {
   "cell_type": "code",
   "execution_count": 2,
   "metadata": {},
   "outputs": [
    {
     "data": {
      "text/html": [
       "<div>\n",
       "<style scoped>\n",
       "    .dataframe tbody tr th:only-of-type {\n",
       "        vertical-align: middle;\n",
       "    }\n",
       "\n",
       "    .dataframe tbody tr th {\n",
       "        vertical-align: top;\n",
       "    }\n",
       "\n",
       "    .dataframe thead th {\n",
       "        text-align: right;\n",
       "    }\n",
       "</style>\n",
       "<table border=\"1\" class=\"dataframe\">\n",
       "  <thead>\n",
       "    <tr style=\"text-align: right;\">\n",
       "      <th></th>\n",
       "      <th>fl_date</th>\n",
       "      <th>op_unique_carrier</th>\n",
       "      <th>tail_num</th>\n",
       "      <th>op_carrier_fl_num</th>\n",
       "      <th>origin_airport_id</th>\n",
       "      <th>dest_airport_id</th>\n",
       "      <th>crs_dep_time</th>\n",
       "      <th>dep_time</th>\n",
       "      <th>dep_delay</th>\n",
       "      <th>taxi_out</th>\n",
       "      <th>...</th>\n",
       "      <th>arr_hr_sin</th>\n",
       "      <th>arr_hr_cos</th>\n",
       "      <th>fl_mnth_sin</th>\n",
       "      <th>fl_mnth_cos</th>\n",
       "      <th>fl_wkday_sin</th>\n",
       "      <th>fl_wkday_cos</th>\n",
       "      <th>day_num_of_flights</th>\n",
       "      <th>num_flights_6hrs</th>\n",
       "      <th>inbound_fl_num</th>\n",
       "      <th>inbound_fl</th>\n",
       "    </tr>\n",
       "  </thead>\n",
       "  <tbody>\n",
       "    <tr>\n",
       "      <th>0</th>\n",
       "      <td>2019-04-08</td>\n",
       "      <td>PT</td>\n",
       "      <td>N645AE</td>\n",
       "      <td>4857</td>\n",
       "      <td>14100</td>\n",
       "      <td>11577</td>\n",
       "      <td>1900-01-01 21:30:00</td>\n",
       "      <td>2129.0</td>\n",
       "      <td>-1.0</td>\n",
       "      <td>37.0</td>\n",
       "      <td>...</td>\n",
       "      <td>-0.500000</td>\n",
       "      <td>0.866025</td>\n",
       "      <td>0.866025</td>\n",
       "      <td>-0.500000</td>\n",
       "      <td>0.000000</td>\n",
       "      <td>1.000000</td>\n",
       "      <td>10</td>\n",
       "      <td>6</td>\n",
       "      <td>0</td>\n",
       "      <td>0</td>\n",
       "    </tr>\n",
       "    <tr>\n",
       "      <th>1</th>\n",
       "      <td>2018-11-29</td>\n",
       "      <td>UA</td>\n",
       "      <td>N817UA</td>\n",
       "      <td>1249</td>\n",
       "      <td>12953</td>\n",
       "      <td>13930</td>\n",
       "      <td>1900-01-01 21:00:00</td>\n",
       "      <td>2058.0</td>\n",
       "      <td>-2.0</td>\n",
       "      <td>25.0</td>\n",
       "      <td>...</td>\n",
       "      <td>-0.500000</td>\n",
       "      <td>0.866025</td>\n",
       "      <td>-0.500000</td>\n",
       "      <td>0.866025</td>\n",
       "      <td>0.433884</td>\n",
       "      <td>-0.900969</td>\n",
       "      <td>1</td>\n",
       "      <td>1</td>\n",
       "      <td>0</td>\n",
       "      <td>0</td>\n",
       "    </tr>\n",
       "    <tr>\n",
       "      <th>2</th>\n",
       "      <td>2018-08-03</td>\n",
       "      <td>AX</td>\n",
       "      <td>N14116</td>\n",
       "      <td>4650</td>\n",
       "      <td>11292</td>\n",
       "      <td>14783</td>\n",
       "      <td>1900-01-01 12:30:00</td>\n",
       "      <td>1237.0</td>\n",
       "      <td>7.0</td>\n",
       "      <td>13.0</td>\n",
       "      <td>...</td>\n",
       "      <td>-0.707107</td>\n",
       "      <td>-0.707107</td>\n",
       "      <td>-0.866025</td>\n",
       "      <td>-0.500000</td>\n",
       "      <td>-0.433884</td>\n",
       "      <td>-0.900969</td>\n",
       "      <td>5</td>\n",
       "      <td>11</td>\n",
       "      <td>0</td>\n",
       "      <td>0</td>\n",
       "    </tr>\n",
       "  </tbody>\n",
       "</table>\n",
       "<p>3 rows × 62 columns</p>\n",
       "</div>"
      ],
      "text/plain": [
       "      fl_date op_unique_carrier tail_num  op_carrier_fl_num  \\\n",
       "0  2019-04-08                PT   N645AE               4857   \n",
       "1  2018-11-29                UA   N817UA               1249   \n",
       "2  2018-08-03                AX   N14116               4650   \n",
       "\n",
       "   origin_airport_id  dest_airport_id         crs_dep_time  dep_time  \\\n",
       "0              14100            11577  1900-01-01 21:30:00    2129.0   \n",
       "1              12953            13930  1900-01-01 21:00:00    2058.0   \n",
       "2              11292            14783  1900-01-01 12:30:00    1237.0   \n",
       "\n",
       "   dep_delay  taxi_out  ...  arr_hr_sin  arr_hr_cos  fl_mnth_sin fl_mnth_cos  \\\n",
       "0       -1.0      37.0  ...   -0.500000    0.866025     0.866025   -0.500000   \n",
       "1       -2.0      25.0  ...   -0.500000    0.866025    -0.500000    0.866025   \n",
       "2        7.0      13.0  ...   -0.707107   -0.707107    -0.866025   -0.500000   \n",
       "\n",
       "   fl_wkday_sin  fl_wkday_cos  day_num_of_flights num_flights_6hrs  \\\n",
       "0      0.000000      1.000000                  10                6   \n",
       "1      0.433884     -0.900969                   1                1   \n",
       "2     -0.433884     -0.900969                   5               11   \n",
       "\n",
       "   inbound_fl_num  inbound_fl  \n",
       "0               0           0  \n",
       "1               0           0  \n",
       "2               0           0  \n",
       "\n",
       "[3 rows x 62 columns]"
      ]
     },
     "execution_count": 2,
     "metadata": {},
     "output_type": "execute_result"
    }
   ],
   "source": [
    "# load data\n",
    "df = pd.read_csv(\"data/flights_preprocessed_37k.csv\", index_col=0)\n",
    "df.head(3)"
   ]
  },
  {
   "cell_type": "markdown",
   "metadata": {},
   "source": [
    "#### More Feature Engineering"
   ]
  },
  {
   "cell_type": "markdown",
   "metadata": {},
   "source": [
    "##### Transform some new features by using 'arr_delay'"
   ]
  },
  {
   "cell_type": "code",
   "execution_count": 3,
   "metadata": {},
   "outputs": [],
   "source": [
    "# Split traing and test set first\n",
    "# In training set, I'm going to add more feature generated by combining 'arr_delay' and some categorial features\n",
    "# For test set, same features as above mentioned should be added with values computed from training set\n",
    "# i.e. DON NOT touch target variable in test set from now on\n",
    "df_train, df_test = train_test_split(df, test_size=0.3)"
   ]
  },
  {
   "cell_type": "code",
   "execution_count": 4,
   "metadata": {},
   "outputs": [],
   "source": [
    "# calculate how many times has delay ('arr_delay' > 15) happened on each carrier/flight_num/tail_num/carrier/origin_airport/dest_airport/origin_city/origin_state/dest_city/dest_state \n",
    "# calculate average/median delay time of each ... (same as above)\n",
    "# merge with df\n",
    "\n",
    "tran_features = ['op_unique_carrier', 'tail_num',  'op_carrier_fl_num', 'origin_airport_id', 'dest_airport_id', 'origin_city', 'origin_state', 'dest_city', 'dest_state']\n",
    "\n",
    "for col in tran_features:\n",
    "    # delay count group by col\n",
    "    feature_delay_ct = df_train[df_train['arr_delay'] > 15][[col, 'arr_delay']].groupby(col, as_index=False).count().rename(columns={'arr_delay': f'{col}_delayct'})\n",
    "    df_train = pd.merge(df_train, feature_delay_ct, on=col, how='left').fillna(0)\n",
    "    # average delay time group by col\n",
    "    feature_delay_avg = df[[col, 'arr_delay']].groupby(col, as_index=False).mean().rename(columns={'arr_delay': f'{col}_delayavg'})\n",
    "    df_train = pd.merge(df_train, feature_delay_avg, on=col, how='left').fillna(0)\n",
    "    # median delay time group by col\n",
    "    feature_delay_median = df[[col, 'arr_delay']].groupby(col, as_index=False).median().rename(columns={'arr_delay': f'{col}_delaymedian'})\n",
    "    df_train = pd.merge(df_train, feature_delay_median, on=col, how='left').fillna(0)"
   ]
  },
  {
   "cell_type": "code",
   "execution_count": 5,
   "metadata": {},
   "outputs": [
    {
     "data": {
      "text/html": [
       "<div>\n",
       "<style scoped>\n",
       "    .dataframe tbody tr th:only-of-type {\n",
       "        vertical-align: middle;\n",
       "    }\n",
       "\n",
       "    .dataframe tbody tr th {\n",
       "        vertical-align: top;\n",
       "    }\n",
       "\n",
       "    .dataframe thead th {\n",
       "        text-align: right;\n",
       "    }\n",
       "</style>\n",
       "<table border=\"1\" class=\"dataframe\">\n",
       "  <thead>\n",
       "    <tr style=\"text-align: right;\">\n",
       "      <th></th>\n",
       "      <th>fl_date</th>\n",
       "      <th>op_unique_carrier</th>\n",
       "      <th>tail_num</th>\n",
       "      <th>op_carrier_fl_num</th>\n",
       "      <th>origin_airport_id</th>\n",
       "      <th>dest_airport_id</th>\n",
       "      <th>crs_dep_time</th>\n",
       "      <th>dep_time</th>\n",
       "      <th>dep_delay</th>\n",
       "      <th>taxi_out</th>\n",
       "      <th>...</th>\n",
       "      <th>origin_city_delaymedian</th>\n",
       "      <th>origin_state_delayct</th>\n",
       "      <th>origin_state_delayavg</th>\n",
       "      <th>origin_state_delaymedian</th>\n",
       "      <th>dest_city_delayct</th>\n",
       "      <th>dest_city_delayavg</th>\n",
       "      <th>dest_city_delaymedian</th>\n",
       "      <th>dest_state_delayct</th>\n",
       "      <th>dest_state_delayavg</th>\n",
       "      <th>dest_state_delaymedian</th>\n",
       "    </tr>\n",
       "  </thead>\n",
       "  <tbody>\n",
       "    <tr>\n",
       "      <th>0</th>\n",
       "      <td>2018-12-23</td>\n",
       "      <td>QX</td>\n",
       "      <td>N444QX</td>\n",
       "      <td>2685</td>\n",
       "      <td>14747</td>\n",
       "      <td>14057</td>\n",
       "      <td>1900-01-01 14:45:00</td>\n",
       "      <td>1449.0</td>\n",
       "      <td>4.0</td>\n",
       "      <td>10.0</td>\n",
       "      <td>...</td>\n",
       "      <td>-4.0</td>\n",
       "      <td>107.0</td>\n",
       "      <td>3.401559</td>\n",
       "      <td>-5.0</td>\n",
       "      <td>42.0</td>\n",
       "      <td>1.047506</td>\n",
       "      <td>-6.0</td>\n",
       "      <td>52</td>\n",
       "      <td>6.102128</td>\n",
       "      <td>-5.0</td>\n",
       "    </tr>\n",
       "    <tr>\n",
       "      <th>1</th>\n",
       "      <td>2018-03-01</td>\n",
       "      <td>DL</td>\n",
       "      <td>N950AT</td>\n",
       "      <td>45</td>\n",
       "      <td>12478</td>\n",
       "      <td>10397</td>\n",
       "      <td>1900-01-01 15:40:00</td>\n",
       "      <td>1559.0</td>\n",
       "      <td>19.0</td>\n",
       "      <td>39.0</td>\n",
       "      <td>...</td>\n",
       "      <td>-10.0</td>\n",
       "      <td>236.0</td>\n",
       "      <td>2.520643</td>\n",
       "      <td>-9.0</td>\n",
       "      <td>208.0</td>\n",
       "      <td>4.441680</td>\n",
       "      <td>-8.0</td>\n",
       "      <td>225</td>\n",
       "      <td>4.582600</td>\n",
       "      <td>-8.0</td>\n",
       "    </tr>\n",
       "    <tr>\n",
       "      <th>2</th>\n",
       "      <td>2018-01-06</td>\n",
       "      <td>QX</td>\n",
       "      <td>N622QX</td>\n",
       "      <td>2729</td>\n",
       "      <td>10140</td>\n",
       "      <td>14679</td>\n",
       "      <td>1900-01-01 11:55:00</td>\n",
       "      <td>1145.0</td>\n",
       "      <td>-10.0</td>\n",
       "      <td>7.0</td>\n",
       "      <td>...</td>\n",
       "      <td>-7.0</td>\n",
       "      <td>17.0</td>\n",
       "      <td>11.793548</td>\n",
       "      <td>-8.0</td>\n",
       "      <td>54.0</td>\n",
       "      <td>4.866667</td>\n",
       "      <td>-6.0</td>\n",
       "      <td>553</td>\n",
       "      <td>4.380535</td>\n",
       "      <td>-6.0</td>\n",
       "    </tr>\n",
       "    <tr>\n",
       "      <th>3</th>\n",
       "      <td>2018-10-26</td>\n",
       "      <td>WN</td>\n",
       "      <td>N419WN</td>\n",
       "      <td>1430</td>\n",
       "      <td>14831</td>\n",
       "      <td>10800</td>\n",
       "      <td>1900-01-01 17:30:00</td>\n",
       "      <td>1731.0</td>\n",
       "      <td>1.0</td>\n",
       "      <td>7.0</td>\n",
       "      <td>...</td>\n",
       "      <td>-6.0</td>\n",
       "      <td>504.0</td>\n",
       "      <td>4.181321</td>\n",
       "      <td>-6.0</td>\n",
       "      <td>20.0</td>\n",
       "      <td>2.712418</td>\n",
       "      <td>-3.0</td>\n",
       "      <td>553</td>\n",
       "      <td>4.380535</td>\n",
       "      <td>-6.0</td>\n",
       "    </tr>\n",
       "    <tr>\n",
       "      <th>4</th>\n",
       "      <td>2019-02-28</td>\n",
       "      <td>G4</td>\n",
       "      <td>223NV</td>\n",
       "      <td>1822</td>\n",
       "      <td>10676</td>\n",
       "      <td>12451</td>\n",
       "      <td>1900-01-01 17:27:00</td>\n",
       "      <td>1717.0</td>\n",
       "      <td>-10.0</td>\n",
       "      <td>10.0</td>\n",
       "      <td>...</td>\n",
       "      <td>-14.0</td>\n",
       "      <td>387.0</td>\n",
       "      <td>9.644642</td>\n",
       "      <td>-4.0</td>\n",
       "      <td>22.0</td>\n",
       "      <td>4.927374</td>\n",
       "      <td>-5.0</td>\n",
       "      <td>354</td>\n",
       "      <td>5.866817</td>\n",
       "      <td>-5.0</td>\n",
       "    </tr>\n",
       "  </tbody>\n",
       "</table>\n",
       "<p>5 rows × 89 columns</p>\n",
       "</div>"
      ],
      "text/plain": [
       "      fl_date op_unique_carrier tail_num  op_carrier_fl_num  \\\n",
       "0  2018-12-23                QX   N444QX               2685   \n",
       "1  2018-03-01                DL   N950AT                 45   \n",
       "2  2018-01-06                QX   N622QX               2729   \n",
       "3  2018-10-26                WN   N419WN               1430   \n",
       "4  2019-02-28                G4    223NV               1822   \n",
       "\n",
       "   origin_airport_id  dest_airport_id         crs_dep_time  dep_time  \\\n",
       "0              14747            14057  1900-01-01 14:45:00    1449.0   \n",
       "1              12478            10397  1900-01-01 15:40:00    1559.0   \n",
       "2              10140            14679  1900-01-01 11:55:00    1145.0   \n",
       "3              14831            10800  1900-01-01 17:30:00    1731.0   \n",
       "4              10676            12451  1900-01-01 17:27:00    1717.0   \n",
       "\n",
       "   dep_delay  taxi_out  ...  origin_city_delaymedian  origin_state_delayct  \\\n",
       "0        4.0      10.0  ...                     -4.0                 107.0   \n",
       "1       19.0      39.0  ...                    -10.0                 236.0   \n",
       "2      -10.0       7.0  ...                     -7.0                  17.0   \n",
       "3        1.0       7.0  ...                     -6.0                 504.0   \n",
       "4      -10.0      10.0  ...                    -14.0                 387.0   \n",
       "\n",
       "   origin_state_delayavg origin_state_delaymedian  dest_city_delayct  \\\n",
       "0               3.401559                     -5.0               42.0   \n",
       "1               2.520643                     -9.0              208.0   \n",
       "2              11.793548                     -8.0               54.0   \n",
       "3               4.181321                     -6.0               20.0   \n",
       "4               9.644642                     -4.0               22.0   \n",
       "\n",
       "   dest_city_delayavg  dest_city_delaymedian dest_state_delayct  \\\n",
       "0            1.047506                   -6.0                 52   \n",
       "1            4.441680                   -8.0                225   \n",
       "2            4.866667                   -6.0                553   \n",
       "3            2.712418                   -3.0                553   \n",
       "4            4.927374                   -5.0                354   \n",
       "\n",
       "   dest_state_delayavg  dest_state_delaymedian  \n",
       "0             6.102128                    -5.0  \n",
       "1             4.582600                    -8.0  \n",
       "2             4.380535                    -6.0  \n",
       "3             4.380535                    -6.0  \n",
       "4             5.866817                    -5.0  \n",
       "\n",
       "[5 rows x 89 columns]"
      ]
     },
     "execution_count": 5,
     "metadata": {},
     "output_type": "execute_result"
    }
   ],
   "source": [
    "df_train.head()"
   ]
  },
  {
   "cell_type": "code",
   "execution_count": 6,
   "metadata": {},
   "outputs": [],
   "source": [
    "# reset dtypes\n",
    "categorical_features = ['op_unique_carrier',\n",
    "                        'tail_num', \n",
    "                        'op_carrier_fl_num',\n",
    "                        'origin_airport_id',\n",
    "                        'dest_airport_id',\n",
    "                        # 'share_code',\n",
    "                        'origin_city',\n",
    "                        'origin_state',\n",
    "                        'dest_city',\n",
    "                        'dest_state',\n",
    "                        'fl_month',\n",
    "                        'fl_weekday',\n",
    "                        'season',\n",
    "                        'inbound_fl']\n",
    "\n",
    "df_train[categorical_features] = df_train[categorical_features].astype('str')\n",
    "df_test[categorical_features] =df_test[categorical_features].astype('str')"
   ]
  },
  {
   "cell_type": "code",
   "execution_count": 7,
   "metadata": {},
   "outputs": [
    {
     "data": {
      "text/plain": [
       "(11232, 62)"
      ]
     },
     "execution_count": 7,
     "metadata": {},
     "output_type": "execute_result"
    }
   ],
   "source": [
    "df_test.shape"
   ]
  },
  {
   "cell_type": "code",
   "execution_count": 8,
   "metadata": {},
   "outputs": [],
   "source": [
    "# add features to test set with values computed by training set\n",
    "# NOTICE: THE VALUES ADDED HERE ARE STILL FROM TRAINING SET\n",
    "# for example, flight No.#### used to have 7 delays in training set, then add 7 to same flight No. in test set\n",
    "# It's like assigning weight to categories (assign weight of 7 to flight No.##### in this example)\n",
    "\n",
    "origin_new = [['op_unique_carrier', 'op_unique_carrier_delayct', 'op_unique_carrier_delaymedian', 'op_unique_carrier_delayavg'],\n",
    "              ['tail_num', 'tail_num_delayct', 'tail_num_delaymedian', 'tail_num_delayavg'],\n",
    "              ['op_carrier_fl_num', 'op_carrier_fl_num_delayct', 'op_carrier_fl_num_delaymedian', 'op_carrier_fl_num_delayavg'],\n",
    "              ['origin_airport_id', 'origin_airport_id_delayct', 'origin_airport_id_delaymedian', 'origin_airport_id_delayavg'],\n",
    "              ['dest_airport_id', 'dest_airport_id_delayct', 'dest_airport_id_delaymedian', 'dest_airport_id_delayavg'],\n",
    "              ['origin_city', 'origin_city_delayct', 'origin_city_delaymedian', 'origin_city_delayavg'],\n",
    "              ['origin_state', 'origin_state_delayct', 'origin_state_delaymedian', 'origin_state_delayavg'],\n",
    "              ['dest_city', 'dest_city_delayct', 'dest_city_delaymedian', 'dest_city_delayavg'],\n",
    "              ['dest_state', 'dest_state_delayct', 'dest_state_delaymedian', 'dest_state_delayavg']]\n",
    "              \n",
    "for cols in origin_new:\n",
    "    df_test = pd.merge(df_test, df_train[cols].drop_duplicates(), on=cols[0], how='left').fillna(0)"
   ]
  },
  {
   "cell_type": "code",
   "execution_count": 9,
   "metadata": {},
   "outputs": [
    {
     "data": {
      "text/plain": [
       "(11232, 89)"
      ]
     },
     "execution_count": 9,
     "metadata": {},
     "output_type": "execute_result"
    }
   ],
   "source": [
    "df_test.shape"
   ]
  },
  {
   "cell_type": "markdown",
   "metadata": {
    "tags": []
   },
   "source": [
    "## Main Task: Regression Problem"
   ]
  },
  {
   "cell_type": "markdown",
   "metadata": {},
   "source": [
    "#### Ridge Regression"
   ]
  },
  {
   "cell_type": "code",
   "execution_count": 15,
   "metadata": {},
   "outputs": [],
   "source": [
    "avail_features = [\n",
    "    # 'fl_date',\n",
    "    # 'op_unique_carrier',\n",
    "    # 'tail_num', \n",
    "    # 'op_carrier_fl_num',\n",
    "    # 'origin_airport_id',\n",
    "    # 'dest_airport_id',\n",
    "    # 'crs_dep_time',\n",
    "    # 'crs_arr_time',\n",
    "    # 'crs_elapsed_time',\n",
    "    'distance',\n",
    "    # 'share_code',\n",
    "    # 'origin_city',\n",
    "    # 'origin_state',\n",
    "    # 'dest_city',\n",
    "    # 'dest_state',\n",
    "    # 'arr_date',\n",
    "    # 'dep_datetime',\n",
    "    # 'arr_datetime',\n",
    "    # 'fl_month',\n",
    "    # 'fl_weekday',\n",
    "    # 'season',\n",
    "    # 'day_num_of_flights',\n",
    "    'num_flights_6hrs',\n",
    "    'inbound_fl_num',\n",
    "    # 'inbound_fl',\n",
    "    # 'dep_min_of_day',\n",
    "    # 'arr_min_of_day',\n",
    "    # 'dep_hr',\n",
    "    # 'arr_hr',\n",
    "    'arr_min_sin',\n",
    "    'arr_min_cos',\n",
    "    # 'arr_hr_sin',\n",
    "    # 'arr_hr_cos',\n",
    "    'dep_min_sin', \n",
    "    'dep_min_cos', \n",
    "    # 'dep_hr_sin', \n",
    "    # 'dep_hr_cos',\n",
    "    'fl_mnth_sin', \n",
    "    'fl_mnth_cos',\n",
    "    'fl_wkday_sin',\n",
    "    'fl_wkday_cos',\n",
    "    'op_unique_carrier_delayct',\n",
    "    'op_unique_carrier_delaymedian',\n",
    "    # 'op_unique_carrier_delayavg',\n",
    "    # 'tail_num_delayct', \n",
    "    # 'tail_num_delaymedian',\n",
    "    'tail_num_delayavg',\n",
    "    # 'op_carrier_fl_num_delayct',\n",
    "    # 'op_carrier_fl_num_delaymedian', \n",
    "    'op_carrier_fl_num_delayavg',\n",
    "    'origin_airport_id_delayct', \n",
    "    # 'origin_airport_id_delaymedian',\n",
    "    'origin_airport_id_delayavg',\n",
    "    'dest_airport_id_delayct',\n",
    "    # 'dest_airport_id_delaymedian',\n",
    "    'dest_airport_id_delayavg',\n",
    "    'origin_city_delayct',\n",
    "    'origin_city_delaymedian', \n",
    "    # 'origin_city_delayavg',\n",
    "    'origin_state_delayct', \n",
    "    'origin_state_delaymedian',\n",
    "    # 'origin_state_delayavg',\n",
    "    'dest_city_delayct', \n",
    "    'dest_city_delaymedian',\n",
    "    # 'dest_city_delayavg',\n",
    "    # 'dest_state_delayct',\n",
    "    # 'dest_state_delaymedian',\n",
    "    'dest_state_delayavg'\n",
    "]"
   ]
  },
  {
   "cell_type": "code",
   "execution_count": 24,
   "metadata": {},
   "outputs": [],
   "source": [
    "X_train = df_train[avail_features]\n",
    "# y_train = target_train_log\n",
    "y_train = np.array(target_train).reshape(-1,1)\n",
    "X_test = df_test[avail_features]\n",
    "y_test = np.array(target_test).reshape(-1,1)\n",
    "\n",
    "X_train_scaled = scaler.fit_transform(X_train)\n",
    "y_train_scaled = scaler.fit_transform(y_train)\n",
    "X_test_scaled = scaler.fit_transform(X_test)\n",
    "y_test_scaled = scaler.fit_transform(y_test)\n",
    "\n",
    "rr = Ridge(alpha=0.1)\n",
    "rr.fit(X_train_scaled, y_train_scaled)\n",
    "y_pred = rr.predict(X_test_scaled)"
   ]
  },
  {
   "cell_type": "code",
   "execution_count": 25,
   "metadata": {},
   "outputs": [
    {
     "data": {
      "text/plain": [
       "0.29098084693328674"
      ]
     },
     "execution_count": 25,
     "metadata": {},
     "output_type": "execute_result"
    }
   ],
   "source": [
    "r2_score(y_test_scaled, y_pred)"
   ]
  },
  {
   "cell_type": "code",
   "execution_count": null,
   "metadata": {},
   "outputs": [],
   "source": []
  },
  {
   "cell_type": "markdown",
   "metadata": {},
   "source": [
    "#### XGBoost"
   ]
  },
  {
   "cell_type": "code",
   "execution_count": 26,
   "metadata": {},
   "outputs": [],
   "source": [
    "X_train = df_train[avail_features]\n",
    "# y_train = target_train_log\n",
    "y_train = target_train\n",
    "X_test = df_test[avail_features]\n",
    "y_test = target_test\n",
    "\n",
    "xg_reg = XGBRegressor(objective ='reg:squarederror',\n",
    "                      learning_rate = 0.1,\n",
    "                      max_depth = 6,\n",
    "                      # reg_lambda = 10,\n",
    "                      n_estimators = 300)\n",
    "xg_reg.fit(X_train, y_train)\n",
    "y_pred = xg_reg.predict(X_test)\n",
    "# y_pred = np.exp(xg_reg.predict(X_test)) + diff"
   ]
  },
  {
   "cell_type": "code",
   "execution_count": 27,
   "metadata": {},
   "outputs": [
    {
     "data": {
      "text/plain": [
       "0.8596270639407491"
      ]
     },
     "execution_count": 27,
     "metadata": {},
     "output_type": "execute_result"
    }
   ],
   "source": [
    "xg_reg.score(X_train, y_train)"
   ]
  },
  {
   "cell_type": "code",
   "execution_count": 28,
   "metadata": {},
   "outputs": [
    {
     "data": {
      "text/plain": [
       "0.4338893305657229"
      ]
     },
     "execution_count": 28,
     "metadata": {},
     "output_type": "execute_result"
    }
   ],
   "source": [
    "r2_score(y_test, y_pred)"
   ]
  },
  {
   "cell_type": "markdown",
   "metadata": {
    "tags": []
   },
   "source": [
    "##### PCA"
   ]
  },
  {
   "cell_type": "code",
   "execution_count": 20,
   "metadata": {
    "jupyter": {
     "source_hidden": true
    },
    "tags": []
   },
   "outputs": [],
   "source": [
    "# pca_features = [\n",
    "#     # 'op_unique_carrier',\n",
    "#     # 'tail_num'.\n",
    "#     # 'op_carrier_fl_num',\n",
    "#     # 'origin_airport_id',\n",
    "#     # 'dest_airport_id',\n",
    "#     'crs_elapsed_time',\n",
    "#     'distance',\n",
    "#     'share_code',\n",
    "#     # 'origin_city',\n",
    "#     # 'origin_state',\n",
    "#     # 'dest_city',\n",
    "#     # 'dest_state',\n",
    "#     'fl_month',\n",
    "#     'fl_weekday',\n",
    "#     'season',\n",
    "#     'day_num_of_flights',\n",
    "#     'num_flights_6hr',\n",
    "#     'inbound_fl_num',\n",
    "#     'inbound_fl',\n",
    "#     'dep_min_of_day',\n",
    "#     'arr_min_of_day',\n",
    "#     'dep_hr',\n",
    "#     'arr_hr',\n",
    "#     'arr_hr_sin',\n",
    "#     'arr_hr_cos',\n",
    "#     'arr_min_sin',\n",
    "#     'arr_min_cos',\n",
    "#     'dep_min_sin',\n",
    "#     'dep_min_cos',\n",
    "#     'dep_hr_sin',\n",
    "#     'dep_hr_cos',\n",
    "#     'fl_mnth_sin',\n",
    "#     'fl_mnth_cos',\n",
    "#     'fl_wkday_sin',\n",
    "#     'fl_wkday_cos',\n",
    "#     'op_unique_carrier_delayct',\n",
    "#     'op_unique_carrier_delaymedian',\n",
    "#     'tail_num_delayct',\n",
    "#     'tail_num_delaymedian',\n",
    "#     'op_carrier_fl_num_delayct',\n",
    "#     'op_carrier_fl_num_delaymedian',\n",
    "#     'origin_airport_id_delayct',\n",
    "#     'origin_airport_id_delaymedian',\n",
    "#     'dest_airport_id_delayct',\n",
    "#     'dest_airport_id_delaymedian',\n",
    "#     'origin_city_delayct',\n",
    "#     'origin_city_delaymedian',\n",
    "#     'origin_state_delayct',\n",
    "#     'origin_state_delaymedian',\n",
    "#     'dest_city_delayct',\n",
    "#     'dest_city_delaymedian',\n",
    "#     'dest_state_delayct',\n",
    "#     'dest_state_delaymedian'\n",
    "# ]"
   ]
  },
  {
   "cell_type": "code",
   "execution_count": 21,
   "metadata": {},
   "outputs": [
    {
     "data": {
      "text/plain": [
       "10609"
      ]
     },
     "execution_count": 21,
     "metadata": {},
     "output_type": "execute_result"
    }
   ],
   "source": [
    "# df_X = pd.concat([df_train[pca_features], df_test[pca_features]])\n",
    "# df_train.shape[0]"
   ]
  },
  {
   "cell_type": "code",
   "execution_count": 25,
   "metadata": {},
   "outputs": [],
   "source": [
    "# X_scaled = scaler.fit_transform(df_X)\n",
    "\n",
    "# pca = PCA(n_components='mle')\n",
    "# pca.fit(X_scaled)\n",
    "# X_pca = pca.transform(X_scaled)"
   ]
  },
  {
   "cell_type": "code",
   "execution_count": 26,
   "metadata": {},
   "outputs": [],
   "source": [
    "# X_scaled_train = X_pca[:10609, :]\n",
    "# X_scaled_test = X_pca[10609:, :]\n",
    "# y_train = target_train_log\n",
    "# y_test = target_test\n",
    "\n",
    "# xg_reg = XGBRegressor(objective ='reg:squarederror',\n",
    "#                       learning_rate = 0.1,\n",
    "#                       max_depth = 6,\n",
    "#                       # reg_lambda = 10,\n",
    "#                       n_estimators = 300)\n",
    "# xg_reg.fit(X_scaled_train, y_train)\n",
    "# # y_pred = xg_reg.predict(X_test)\n",
    "# y_pred = np.exp(xg_reg.predict(X_scaled_test)) + diff"
   ]
  },
  {
   "cell_type": "code",
   "execution_count": 27,
   "metadata": {},
   "outputs": [
    {
     "data": {
      "text/plain": [
       "0.11846731863060067"
      ]
     },
     "execution_count": 27,
     "metadata": {},
     "output_type": "execute_result"
    }
   ],
   "source": [
    "# r2_score(y_test, y_pred)"
   ]
  },
  {
   "cell_type": "code",
   "execution_count": 43,
   "metadata": {},
   "outputs": [],
   "source": [
    "# features = [\n",
    "#     # 'op_unique_carrier',\n",
    "#     # 'tail_num'.\n",
    "#     # 'op_carrier_fl_num',\n",
    "#     # 'origin_airport_id',\n",
    "#     # 'dest_airport_id',\n",
    "#     # 'crs_elapsed_time',\n",
    "#     'distance',\n",
    "#     'share_code',\n",
    "#     # 'origin_city',\n",
    "#     # 'origin_state',\n",
    "#     # 'dest_city',\n",
    "#     # 'dest_state',\n",
    "#     # 'fl_month',\n",
    "#     # 'fl_weekday',\n",
    "#     # 'season',\n",
    "#     # 'day_num_of_flights',\n",
    "#     # 'num_flights_6hr',\n",
    "#     # 'inbound_fl_num',\n",
    "#     # 'inbound_fl',\n",
    "#     # 'dep_min_of_day',\n",
    "#     # 'arr_min_of_day',\n",
    "#     # 'dep_hr',\n",
    "#     # 'arr_hr',\n",
    "#     # 'arr_hr_sin',\n",
    "#     # 'arr_hr_cos',\n",
    "#     # 'arr_min_sin',\n",
    "#     # 'arr_min_cos',\n",
    "#     'dep_min_sin',\n",
    "#     # 'dep_min_cos',\n",
    "#     # 'dep_hr_sin',\n",
    "#     # 'dep_hr_cos',\n",
    "#     # 'fl_mnth_sin',\n",
    "#     # 'fl_mnth_cos',\n",
    "#     # 'fl_wkday_sin',\n",
    "#     # 'fl_wkday_cos',\n",
    "#     # 'op_unique_carrier_delayct',\n",
    "#     # 'op_unique_carrier_delaymedian',\n",
    "#     'tail_num_delayct',\n",
    "#     # 'tail_num_delaymedian',\n",
    "#     'op_carrier_fl_num_delayct',\n",
    "#     # 'op_carrier_fl_num_delaymedian',\n",
    "#     # 'origin_airport_id_delayct',\n",
    "#     # 'origin_airport_id_delaymedian',\n",
    "#     # 'dest_airport_id_delayct',\n",
    "#     # 'dest_airport_id_delaymedian',\n",
    "#     # 'origin_city_delayct',\n",
    "#     'origin_city_delaymedian',\n",
    "#     # 'origin_state_delayct',\n",
    "#     'origin_state_delaymedian',\n",
    "#     'dest_city_delayct',\n",
    "#     # 'dest_city_delaymedian',\n",
    "#     # 'dest_state_delayct',\n",
    "#     'dest_state_delaymedian'\n",
    "# ]"
   ]
  },
  {
   "cell_type": "code",
   "execution_count": 44,
   "metadata": {},
   "outputs": [],
   "source": [
    "# scores = []\n",
    "# for f in features:\n",
    "#     X_train = df_train[[f]]\n",
    "#     y_train = target_train_log\n",
    "#     X_test = df_test[[f]]\n",
    "#     y_test = target_test\n",
    "    \n",
    "#     xg_reg = XGBRegressor(objective ='reg:squarederror',\n",
    "#                       learning_rate = 0.1,\n",
    "#                       max_depth = 6,\n",
    "#                       # reg_lambda = 10,\n",
    "#                       n_estimators = 300)\n",
    "#     xg_reg.fit(X_train, y_train)\n",
    "#     y_pred = np.exp(xg_reg.predict(X_test)) + diff\n",
    "#     # y_pred = xg_reg.predict(X_test)\n",
    "    \n",
    "#     scores.append([f, xg_reg.score(X_train, y_train), r2_score(y_test, y_pred)])"
   ]
  },
  {
   "cell_type": "code",
   "execution_count": 45,
   "metadata": {
    "collapsed": true,
    "jupyter": {
     "outputs_hidden": true
    },
    "tags": []
   },
   "outputs": [
    {
     "data": {
      "text/html": [
       "<div>\n",
       "<style scoped>\n",
       "    .dataframe tbody tr th:only-of-type {\n",
       "        vertical-align: middle;\n",
       "    }\n",
       "\n",
       "    .dataframe tbody tr th {\n",
       "        vertical-align: top;\n",
       "    }\n",
       "\n",
       "    .dataframe thead th {\n",
       "        text-align: right;\n",
       "    }\n",
       "</style>\n",
       "<table border=\"1\" class=\"dataframe\">\n",
       "  <thead>\n",
       "    <tr style=\"text-align: right;\">\n",
       "      <th></th>\n",
       "      <th>0</th>\n",
       "      <th>1</th>\n",
       "      <th>2</th>\n",
       "    </tr>\n",
       "  </thead>\n",
       "  <tbody>\n",
       "    <tr>\n",
       "      <th>5</th>\n",
       "      <td>origin_city_delaymedian</td>\n",
       "      <td>0.824356</td>\n",
       "      <td>0.240021</td>\n",
       "    </tr>\n",
       "  </tbody>\n",
       "</table>\n",
       "</div>"
      ],
      "text/plain": [
       "                         0         1         2\n",
       "5  origin_city_delaymedian  0.824356  0.240021"
      ]
     },
     "execution_count": 45,
     "metadata": {},
     "output_type": "execute_result"
    }
   ],
   "source": [
    "# s = pd.DataFrame(scores)\n",
    "# s[s[2]==s[2].max()]"
   ]
  },
  {
   "cell_type": "code",
   "execution_count": null,
   "metadata": {},
   "outputs": [],
   "source": []
  },
  {
   "cell_type": "code",
   "execution_count": null,
   "metadata": {},
   "outputs": [],
   "source": []
  }
 ],
 "metadata": {
  "kernelspec": {
   "display_name": "Python 3 (ipykernel)",
   "language": "python",
   "name": "python3"
  },
  "language_info": {
   "codemirror_mode": {
    "name": "ipython",
    "version": 3
   },
   "file_extension": ".py",
   "mimetype": "text/x-python",
   "name": "python",
   "nbconvert_exporter": "python",
   "pygments_lexer": "ipython3",
   "version": "3.9.7"
  }
 },
 "nbformat": 4,
 "nbformat_minor": 4
}
