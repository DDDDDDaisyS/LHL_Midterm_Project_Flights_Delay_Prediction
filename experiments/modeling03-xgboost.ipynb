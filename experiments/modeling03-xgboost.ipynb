{
 "cells": [
  {
   "cell_type": "markdown",
   "metadata": {},
   "source": [
    "# Machine Learning\n",
    "\n",
    "In this file, instructions how to approach the challenge can be found."
   ]
  },
  {
   "cell_type": "markdown",
   "metadata": {},
   "source": [
    "We are going to work on different types of Machine Learning problems:\n",
    "\n",
    "- **Regression Problem**: The goal is to predict delay of flights.\n",
    "- **(Stretch) Multiclass Classification**: If the plane was delayed, we will predict what type of delay it is (will be).\n",
    "- **(Stretch) Binary Classification**: The goal is to predict if the flight will be cancelled."
   ]
  },
  {
   "cell_type": "code",
   "execution_count": 1,
   "metadata": {},
   "outputs": [],
   "source": [
    "# import pandas\n",
    "import pandas as pd\n",
    "import numpy as np\n",
    "import copy\n",
    "import seaborn as sns\n",
    "import matplotlib.pyplot as plt\n",
    "from sklearn.linear_model import LinearRegression, Ridge"
   ]
  },
  {
   "cell_type": "code",
   "execution_count": 2,
   "metadata": {},
   "outputs": [
    {
     "data": {
      "text/html": [
       "<div>\n",
       "<style scoped>\n",
       "    .dataframe tbody tr th:only-of-type {\n",
       "        vertical-align: middle;\n",
       "    }\n",
       "\n",
       "    .dataframe tbody tr th {\n",
       "        vertical-align: top;\n",
       "    }\n",
       "\n",
       "    .dataframe thead th {\n",
       "        text-align: right;\n",
       "    }\n",
       "</style>\n",
       "<table border=\"1\" class=\"dataframe\">\n",
       "  <thead>\n",
       "    <tr style=\"text-align: right;\">\n",
       "      <th></th>\n",
       "      <th>fl_date</th>\n",
       "      <th>op_unique_carrier</th>\n",
       "      <th>tail_num</th>\n",
       "      <th>op_carrier_fl_num</th>\n",
       "      <th>origin_airport_id</th>\n",
       "      <th>dest_airport_id</th>\n",
       "      <th>crs_dep_time</th>\n",
       "      <th>dep_time</th>\n",
       "      <th>dep_delay</th>\n",
       "      <th>taxi_out</th>\n",
       "      <th>...</th>\n",
       "      <th>fl_weekday</th>\n",
       "      <th>season</th>\n",
       "      <th>day_num_of_flights</th>\n",
       "      <th>num_flights_6hr</th>\n",
       "      <th>inbound_fl_num</th>\n",
       "      <th>inbound_fl</th>\n",
       "      <th>dep_min_of_day</th>\n",
       "      <th>arr_min_of_day</th>\n",
       "      <th>dep_hr</th>\n",
       "      <th>arr_hr</th>\n",
       "    </tr>\n",
       "  </thead>\n",
       "  <tbody>\n",
       "    <tr>\n",
       "      <th>0</th>\n",
       "      <td>2018-01-01</td>\n",
       "      <td>YV</td>\n",
       "      <td>N89308</td>\n",
       "      <td>6246</td>\n",
       "      <td>12992</td>\n",
       "      <td>12266</td>\n",
       "      <td>18:55:00</td>\n",
       "      <td>1849.0</td>\n",
       "      <td>-6.0</td>\n",
       "      <td>12.0</td>\n",
       "      <td>...</td>\n",
       "      <td>0</td>\n",
       "      <td>1</td>\n",
       "      <td>1</td>\n",
       "      <td>1</td>\n",
       "      <td>0</td>\n",
       "      <td>0</td>\n",
       "      <td>1135</td>\n",
       "      <td>1230</td>\n",
       "      <td>18</td>\n",
       "      <td>20</td>\n",
       "    </tr>\n",
       "    <tr>\n",
       "      <th>1</th>\n",
       "      <td>2018-01-01</td>\n",
       "      <td>YV</td>\n",
       "      <td>N88331</td>\n",
       "      <td>6183</td>\n",
       "      <td>13158</td>\n",
       "      <td>12266</td>\n",
       "      <td>09:45:00</td>\n",
       "      <td>1013.0</td>\n",
       "      <td>28.0</td>\n",
       "      <td>9.0</td>\n",
       "      <td>...</td>\n",
       "      <td>0</td>\n",
       "      <td>1</td>\n",
       "      <td>1</td>\n",
       "      <td>1</td>\n",
       "      <td>0</td>\n",
       "      <td>0</td>\n",
       "      <td>585</td>\n",
       "      <td>675</td>\n",
       "      <td>9</td>\n",
       "      <td>11</td>\n",
       "    </tr>\n",
       "    <tr>\n",
       "      <th>2</th>\n",
       "      <td>2018-01-01</td>\n",
       "      <td>YV</td>\n",
       "      <td>N519LR</td>\n",
       "      <td>6034</td>\n",
       "      <td>13198</td>\n",
       "      <td>12264</td>\n",
       "      <td>12:20:00</td>\n",
       "      <td>1217.0</td>\n",
       "      <td>-3.0</td>\n",
       "      <td>11.0</td>\n",
       "      <td>...</td>\n",
       "      <td>0</td>\n",
       "      <td>1</td>\n",
       "      <td>6</td>\n",
       "      <td>3</td>\n",
       "      <td>0</td>\n",
       "      <td>0</td>\n",
       "      <td>740</td>\n",
       "      <td>936</td>\n",
       "      <td>12</td>\n",
       "      <td>15</td>\n",
       "    </tr>\n",
       "  </tbody>\n",
       "</table>\n",
       "<p>3 rows × 50 columns</p>\n",
       "</div>"
      ],
      "text/plain": [
       "      fl_date op_unique_carrier tail_num  op_carrier_fl_num  \\\n",
       "0  2018-01-01                YV   N89308               6246   \n",
       "1  2018-01-01                YV   N88331               6183   \n",
       "2  2018-01-01                YV   N519LR               6034   \n",
       "\n",
       "   origin_airport_id  dest_airport_id crs_dep_time  dep_time  dep_delay  \\\n",
       "0              12992            12266     18:55:00    1849.0       -6.0   \n",
       "1              13158            12266     09:45:00    1013.0       28.0   \n",
       "2              13198            12264     12:20:00    1217.0       -3.0   \n",
       "\n",
       "   taxi_out  ...  fl_weekday  season  day_num_of_flights num_flights_6hr  \\\n",
       "0      12.0  ...           0       1                   1               1   \n",
       "1       9.0  ...           0       1                   1               1   \n",
       "2      11.0  ...           0       1                   6               3   \n",
       "\n",
       "   inbound_fl_num  inbound_fl  dep_min_of_day arr_min_of_day  dep_hr  arr_hr  \n",
       "0               0           0            1135           1230      18      20  \n",
       "1               0           0             585            675       9      11  \n",
       "2               0           0             740            936      12      15  \n",
       "\n",
       "[3 rows x 50 columns]"
      ]
     },
     "execution_count": 2,
     "metadata": {},
     "output_type": "execute_result"
    }
   ],
   "source": [
    "# load data\n",
    "df = pd.read_csv(\"data/flights_preprocessed.csv\", index_col=0)\n",
    "df.head(3)"
   ]
  },
  {
   "cell_type": "code",
   "execution_count": 3,
   "metadata": {},
   "outputs": [
    {
     "data": {
      "text/plain": [
       "fl_date                 object\n",
       "op_unique_carrier       object\n",
       "tail_num                object\n",
       "op_carrier_fl_num       object\n",
       "origin_airport_id       object\n",
       "dest_airport_id         object\n",
       "crs_dep_time            object\n",
       "dep_time               float64\n",
       "dep_delay              float64\n",
       "taxi_out               float64\n",
       "wheels_off             float64\n",
       "wheels_on              float64\n",
       "taxi_in                float64\n",
       "crs_arr_time            object\n",
       "arr_time               float64\n",
       "arr_delay              float64\n",
       "cancelled              float64\n",
       "cancellation_code       object\n",
       "diverted               float64\n",
       "crs_elapsed_time       float64\n",
       "actual_elapsed_time    float64\n",
       "air_time               float64\n",
       "distance               float64\n",
       "carrier_delay          float64\n",
       "weather_delay          float64\n",
       "nas_delay              float64\n",
       "security_delay         float64\n",
       "late_aircraft_delay    float64\n",
       "first_dep_time          object\n",
       "total_add_gtime        float64\n",
       "longest_add_gtime      float64\n",
       "share_code               int64\n",
       "origin_city             object\n",
       "origin_state            object\n",
       "dest_city               object\n",
       "dest_state              object\n",
       "arr_date                object\n",
       "dep_datetime            object\n",
       "arr_datetime            object\n",
       "fl_month                 int64\n",
       "fl_weekday               int64\n",
       "season                   int64\n",
       "day_num_of_flights       int64\n",
       "num_flights_6hr          int64\n",
       "inbound_fl_num           int64\n",
       "inbound_fl               int64\n",
       "dep_min_of_day           int64\n",
       "arr_min_of_day           int64\n",
       "dep_hr                   int64\n",
       "arr_hr                   int64\n",
       "dtype: object"
      ]
     },
     "execution_count": 3,
     "metadata": {},
     "output_type": "execute_result"
    }
   ],
   "source": [
    "# reset dtypes for categorical and time columns that contains int or float as 'str'\n",
    "cat_col_names = ['op_carrier_fl_num', 'origin_airport_id', 'origin_city', 'dest_airport_id', 'crs_dep_time', 'crs_arr_time']\n",
    "df[cat_col_names] = df[cat_col_names].astype('str')\n",
    "\n",
    "# check dtypes again\n",
    "df.dtypes"
   ]
  },
  {
   "cell_type": "code",
   "execution_count": 4,
   "metadata": {},
   "outputs": [],
   "source": [
    "data = copy.deepcopy(df)"
   ]
  },
  {
   "cell_type": "markdown",
   "metadata": {},
   "source": [
    "## Main Task: Regression Problem"
   ]
  },
  {
   "cell_type": "markdown",
   "metadata": {},
   "source": [
    "The target variable is **ARR_DELAY**. We need to be careful which columns to use and which don't. For example, DEP_DELAY is going to be the perfect predictor, but we can't use it because in real-life scenario, we want to predict the delay before the flight takes of --> We can use average delay from earlier days but not the one from the actual flight we predict.  \n",
    "\n",
    "For example, variables **CARRIER_DELAY, WEATHER_DELAY, NAS_DELAY, SECURITY_DELAY, LATE_AIRCRAFT_DELAY** shouldn't be used directly as predictors as well. However, we can create various transformations from earlier values.\n",
    "\n",
    "We will be evaluating your models by predicting the ARR_DELAY for all flights **1 week in advance**."
   ]
  },
  {
   "cell_type": "code",
   "execution_count": 5,
   "metadata": {},
   "outputs": [],
   "source": [
    "drop = [\n",
    "    'total_add_gtime',\n",
    "    'first_dep_time',\n",
    "    'longest_add_gtime',\n",
    "    'cancellation_code',\n",
    "]\n",
    "delay_cols = [\n",
    "    'late_aircraft_delay',\n",
    "    'security_delay',\n",
    "    'nas_delay',\n",
    "    'weather_delay',\n",
    "    'carrier_delay'\n",
    "]\n",
    "carrier_identifiers = [\n",
    "    #'mkt_unique_carrier',\n",
    "    #'branded_code_share',\n",
    "    #'mkt_carrier',\n",
    "    #'mkt_carrier_fl_num',\n",
    "    #'op_unique_carrier',\n",
    "    'tail_num',\n",
    "    'op_carrier_fl_num',\n",
    "]\n",
    "place_identifiers = [\n",
    "#origin identifiers\n",
    "    'origin_airport_id',\n",
    "    #'origin',\n",
    "    #'origin_city_name',\n",
    "    #'origin_city',\n",
    "    #'origin_country',\n",
    "#destination identifiers\n",
    "    'dest_airport_id',\n",
    "    #'dest',\n",
    "    #'dest_city_name',\n",
    "    #'dest_city',\n",
    "    #'dest_country',\n",
    "]"
   ]
  },
  {
   "cell_type": "code",
   "execution_count": 6,
   "metadata": {},
   "outputs": [],
   "source": [
    "data = data.drop(columns=\n",
    "                drop+\n",
    "                delay_cols+ # not really sure what to do with these columns\n",
    "                carrier_identifiers+\n",
    "                place_identifiers)"
   ]
  },
  {
   "cell_type": "code",
   "execution_count": 7,
   "metadata": {},
   "outputs": [
    {
     "data": {
      "text/plain": [
       "<AxesSubplot:>"
      ]
     },
     "execution_count": 7,
     "metadata": {},
     "output_type": "execute_result"
    },
    {
     "data": {
      "image/png": "[encoded data removed]",
      "text/plain": [
       "<Figure size 432x288 with 2 Axes>"
      ]
     },
     "metadata": {
      "needs_background": "light"
     },
     "output_type": "display_data"
    }
   ],
   "source": [
    "# correlation matrix\n",
    "corr = df.corr()\n",
    "sns.heatmap(corr)"
   ]
  },
  {
   "cell_type": "code",
   "execution_count": 8,
   "metadata": {},
   "outputs": [],
   "source": [
    "X = data.drop(columns='arr_delay')"
   ]
  },
  {
   "cell_type": "code",
   "execution_count": 9,
   "metadata": {},
   "outputs": [
    {
     "data": {
      "text/plain": [
       "<AxesSubplot:>"
      ]
     },
     "execution_count": 9,
     "metadata": {},
     "output_type": "execute_result"
    },
    {
     "data": {
      "image/png": "[encoded data removed]",
      "text/plain": [
       "<Figure size 432x288 with 2 Axes>"
      ]
     },
     "metadata": {
      "needs_background": "light"
     },
     "output_type": "display_data"
    }
   ],
   "source": [
    "Xcorr = X.corr()\n",
    "sns.heatmap(Xcorr)"
   ]
  },
  {
   "cell_type": "code",
   "execution_count": 10,
   "metadata": {},
   "outputs": [
    {
     "name": "stdout",
     "output_type": "stream",
     "text": [
      "dep_time\twheels_off\t0.9683936870769133\n",
      "dep_time\tdep_min_of_day\t0.9640072310411683\n",
      "dep_time\tarr_min_of_day\t0.7080529703657494\n",
      "dep_time\tdep_hr\t0.9627668942793404\n",
      "dep_time\tarr_hr\t0.7080933930117906\n",
      "wheels_off\tdep_time\t0.9683936870769133\n",
      "wheels_off\tdep_min_of_day\t0.9351194779484684\n",
      "wheels_off\tarr_min_of_day\t0.7176339415484319\n",
      "wheels_off\tdep_hr\t0.9340119894101458\n",
      "wheels_off\tarr_hr\t0.7176819001658353\n",
      "wheels_on\tarr_time\t0.9635107663653586\n",
      "wheels_on\tarr_min_of_day\t0.8493305666884455\n",
      "wheels_on\tarr_hr\t0.8498714799448674\n",
      "arr_time\twheels_on\t0.9635107663653586\n",
      "arr_time\tarr_min_of_day\t0.8424499034837389\n",
      "arr_time\tarr_hr\t0.8432464307555028\n",
      "crs_elapsed_time\tactual_elapsed_time\t0.9823062996311639\n",
      "crs_elapsed_time\tair_time\t0.9887842323642606\n",
      "crs_elapsed_time\tdistance\t0.9826598335225735\n",
      "actual_elapsed_time\tcrs_elapsed_time\t0.9823062996311639\n",
      "actual_elapsed_time\tair_time\t0.9866774961807293\n",
      "actual_elapsed_time\tdistance\t0.9686422808588372\n",
      "air_time\tcrs_elapsed_time\t0.9887842323642606\n",
      "air_time\tactual_elapsed_time\t0.9866774961807293\n",
      "air_time\tdistance\t0.9839788055495907\n",
      "distance\tcrs_elapsed_time\t0.9826598335225735\n",
      "distance\tactual_elapsed_time\t0.9686422808588372\n",
      "distance\tair_time\t0.9839788055495907\n",
      "day_num_of_flights\tnum_flights_6hr\t0.808502307393146\n",
      "num_flights_6hr\tday_num_of_flights\t0.808502307393146\n",
      "inbound_fl_num\tinbound_fl\t0.9931749558048025\n",
      "inbound_fl\tinbound_fl_num\t0.9931749558048025\n",
      "dep_min_of_day\tdep_time\t0.9640072310411683\n",
      "dep_min_of_day\twheels_off\t0.9351194779484684\n",
      "dep_min_of_day\tarr_min_of_day\t0.7123615928825047\n",
      "dep_min_of_day\tdep_hr\t0.9981287892137101\n",
      "dep_min_of_day\tarr_hr\t0.7122322874355226\n",
      "arr_min_of_day\tdep_time\t0.7080529703657494\n",
      "arr_min_of_day\twheels_off\t0.7176339415484319\n",
      "arr_min_of_day\twheels_on\t0.8493305666884455\n",
      "arr_min_of_day\tarr_time\t0.8424499034837389\n",
      "arr_min_of_day\tdep_min_of_day\t0.7123615928825047\n",
      "arr_min_of_day\tdep_hr\t0.7113098903223055\n",
      "arr_min_of_day\tarr_hr\t0.9983486107705457\n",
      "dep_hr\tdep_time\t0.9627668942793404\n",
      "dep_hr\twheels_off\t0.9340119894101458\n",
      "dep_hr\tdep_min_of_day\t0.9981287892137101\n",
      "dep_hr\tarr_min_of_day\t0.7113098903223055\n",
      "dep_hr\tarr_hr\t0.7111624861916751\n",
      "arr_hr\tdep_time\t0.7080933930117906\n",
      "arr_hr\twheels_off\t0.7176819001658353\n",
      "arr_hr\twheels_on\t0.8498714799448674\n",
      "arr_hr\tarr_time\t0.8432464307555028\n",
      "arr_hr\tdep_min_of_day\t0.7122322874355226\n",
      "arr_hr\tarr_min_of_day\t0.9983486107705457\n",
      "arr_hr\tdep_hr\t0.7111624861916751\n"
     ]
    }
   ],
   "source": [
    "# correlation in X\n",
    "\n",
    "corr_matrix = X.corr()\n",
    "for i in corr_matrix:\n",
    "    for j in corr_matrix:\n",
    "        if i != j:\n",
    "            if abs(corr_matrix[i][j]) > 0.7:\n",
    "                print(f\"{i}\\t{j}\\t{abs(corr_matrix[i][j])}\")"
   ]
  },
  {
   "cell_type": "code",
   "execution_count": 11,
   "metadata": {},
   "outputs": [],
   "source": [
    "corr_drop = [\n",
    "    'wheels_off',  #dep/arr time could have information on whether or not time of day affects delay\n",
    "    'wheels_on',   #wheels off/on probably time spent in tarmac\n",
    "    'actual_elapsed_time', # info captured by crs elapsed time - air time\n",
    "    'crs_elapsed_time'\n",
    "]\n",
    "\n",
    "data = data.drop(columns=corr_drop)"
   ]
  },
  {
   "cell_type": "code",
   "execution_count": 12,
   "metadata": {},
   "outputs": [],
   "source": [
    "time_variables = [\n",
    "\n",
    "    'fl_date',\n",
    "    'crs_dep_time',\n",
    "    'crs_arr_time',\n",
    "    'arr_date',\n",
    "    'dep_datetime',\n",
    "    'arr_datetime',\n",
    "\n",
    "]\n",
    "data = data.drop(columns=time_variables)"
   ]
  },
  {
   "cell_type": "code",
   "execution_count": 13,
   "metadata": {},
   "outputs": [
    {
     "data": {
      "text/plain": [
       "op_unique_carrier      object\n",
       "dep_time              float64\n",
       "dep_delay             float64\n",
       "taxi_out              float64\n",
       "taxi_in               float64\n",
       "arr_time              float64\n",
       "arr_delay             float64\n",
       "cancelled             float64\n",
       "diverted              float64\n",
       "air_time              float64\n",
       "distance              float64\n",
       "share_code              int64\n",
       "origin_city            object\n",
       "origin_state           object\n",
       "dest_city              object\n",
       "dest_state             object\n",
       "fl_month                int64\n",
       "fl_weekday              int64\n",
       "season                  int64\n",
       "day_num_of_flights      int64\n",
       "num_flights_6hr         int64\n",
       "inbound_fl_num          int64\n",
       "inbound_fl              int64\n",
       "dep_min_of_day          int64\n",
       "arr_min_of_day          int64\n",
       "dep_hr                  int64\n",
       "arr_hr                  int64\n",
       "dtype: object"
      ]
     },
     "execution_count": 13,
     "metadata": {},
     "output_type": "execute_result"
    }
   ],
   "source": [
    "data.dtypes"
   ]
  },
  {
   "cell_type": "code",
   "execution_count": 14,
   "metadata": {},
   "outputs": [],
   "source": [
    "features = [\n",
    "\n",
    "    'op_unique_carrier',\n",
    "    'dep_time',\n",
    "    'arr_time',\n",
    "    'arr_delay',\n",
    "    'diverted',\n",
    "    'air_time',\n",
    "    'distance',\n",
    "    'origin_city',\n",
    "    'dest_city',\n",
    "    'fl_month',\n",
    "    'inbound_fl_num',\n",
    "    'season',\n",
    "    'arr_min_of_day',\n",
    "]\n",
    "other_features = [\n",
    " \n",
    "\n",
    "    'dep_delay',             \n",
    "    'taxi_out',             \n",
    "    'taxi_in',               \n",
    "    'share_code',             \n",
    "    'origin_state',           \n",
    "    'dest_state',             \n",
    "    'fl_weekday',              \n",
    "    'day_num_of_flights',      \n",
    "    'num_flights_6hr',         \n",
    "    'inbound_fl',             \n",
    "    'dep_min_of_day',          \n",
    "    'dep_hr',                  \n",
    "    'arr_hr',                   \n",
    "]\n",
    "data = data.drop(columns=other_features)"
   ]
  },
  {
   "cell_type": "code",
   "execution_count": 15,
   "metadata": {},
   "outputs": [],
   "source": [
    "# dummy variables - keep in mind the column used from identifiers\n",
    "# commented out variables = removed\n",
    "\n",
    "categorical_variables = [\n",
    "# aircraft\n",
    "    #'mkt_unique_carrier',\n",
    "    #'branded_code_share',\n",
    "    #'mkt_carrier',\n",
    "    #'mkt_carrier_fl_num',\n",
    "    'op_unique_carrier',\n",
    "    #'tail_num',\n",
    "    #'op_carrier_fl_num',\n",
    "    \n",
    "# place\n",
    "    #'origin_city_name',\n",
    "    'origin_city', # engineered\n",
    "    #'origin_state', # engineered\n",
    "    #'dest_city_name',\n",
    "    'dest_city', # engineered\n",
    "    #'dest_state', # engineered\n",
    "    \n",
    "#id\n",
    "    #'origin_airport_id',\n",
    "    #'dest_airport_id',\n",
    "    \n",
    "    #'dup' #duplicate flag marked y if flight is swapped based on form-3a data\n",
    "]\n"
   ]
  },
  {
   "cell_type": "code",
   "execution_count": 16,
   "metadata": {},
   "outputs": [],
   "source": [
    "data = pd.get_dummies(data=data,columns=categorical_variables,drop_first=True)"
   ]
  },
  {
   "cell_type": "code",
   "execution_count": 17,
   "metadata": {},
   "outputs": [
    {
     "data": {
      "text/plain": [
       "dep_time               float64\n",
       "arr_time               float64\n",
       "arr_delay              float64\n",
       "cancelled              float64\n",
       "diverted               float64\n",
       "                        ...   \n",
       "dest_city_Worcester      uint8\n",
       "dest_city_Wrangell       uint8\n",
       "dest_city_Yakima         uint8\n",
       "dest_city_Yakutat        uint8\n",
       "dest_city_Yuma           uint8\n",
       "Length: 667, dtype: object"
      ]
     },
     "execution_count": 17,
     "metadata": {},
     "output_type": "execute_result"
    }
   ],
   "source": [
    "data.dtypes"
   ]
  },
  {
   "cell_type": "code",
   "execution_count": null,
   "metadata": {},
   "outputs": [],
   "source": []
  },
  {
   "cell_type": "code",
   "execution_count": 18,
   "metadata": {},
   "outputs": [],
   "source": [
    "from sklearn import ensemble\n",
    "from sklearn import metrics\n",
    "from sklearn.model_selection import train_test_split, GridSearchCV\n",
    "import xgboost as xgb"
   ]
  },
  {
   "cell_type": "code",
   "execution_count": 19,
   "metadata": {},
   "outputs": [],
   "source": [
    "X = data.drop(columns='arr_delay')\n",
    "y = data['arr_delay']"
   ]
  },
  {
   "cell_type": "code",
   "execution_count": 20,
   "metadata": {},
   "outputs": [],
   "source": [
    "from sklearn.preprocessing import StandardScaler\n",
    "\n",
    "scaler = StandardScaler()\n",
    "scaler.fit(X)\n",
    "\n",
    "X_scale = pd.DataFrame(scaler.transform(X),columns = X.columns)"
   ]
  },
  {
   "cell_type": "code",
   "execution_count": 22,
   "metadata": {},
   "outputs": [],
   "source": [
    "from sklearn.model_selection import train_test_split\n",
    "x_train, x_test, y_train, y_test = train_test_split(X,y,test_size = 0.3,random_state=123)"
   ]
  },
  {
   "cell_type": "code",
   "execution_count": 60,
   "metadata": {},
   "outputs": [],
   "source": [
    "xg_reg = xgb.XGBRegressor(objective ='reg:squarederror', colsample_bytree = 0.3, learning_rate = 0.1,\n",
    "                max_depth = 5, alpha = 10, n_estimators = 10)"
   ]
  },
  {
   "cell_type": "code",
   "execution_count": 61,
   "metadata": {},
   "outputs": [],
   "source": [
    "xg_reg.fit(x_train,y_train)\n",
    "\n",
    "y_pred = xg_reg.predict(x_test)"
   ]
  },
  {
   "cell_type": "code",
   "execution_count": 32,
   "metadata": {},
   "outputs": [
    {
     "name": "stdout",
     "output_type": "stream",
     "text": [
      "R^2 on the test set:\t0.26048316356814205\n"
     ]
    }
   ],
   "source": [
    "r2_test = metrics.r2_score(y_test, y_pred)\n",
    "print(f'R^2 on the test set:\\t{r2_test}')"
   ]
  },
  {
   "cell_type": "code",
   "execution_count": 34,
   "metadata": {},
   "outputs": [
    {
     "name": "stdout",
     "output_type": "stream",
     "text": [
      "RMSE: 33.670836\n"
     ]
    }
   ],
   "source": [
    "from sklearn.metrics import mean_squared_error\n",
    "rmse = np.sqrt(mean_squared_error(y_test, y_pred))\n",
    "print(\"RMSE: %f\" % (rmse))"
   ]
  },
  {
   "cell_type": "code",
   "execution_count": 36,
   "metadata": {},
   "outputs": [],
   "source": [
    "data_dmatrix = xgb.DMatrix(data=X,label=y)"
   ]
  },
  {
   "cell_type": "code",
   "execution_count": 62,
   "metadata": {},
   "outputs": [],
   "source": [
    "params = {\"objective\":\"reg:squarederror\",'colsample_bytree': 0.3,'learning_rate': 0.1,\n",
    "                'max_depth': 5, 'alpha': 10}\n",
    "\n",
    "cv_results = xgb.cv(dtrain=data_dmatrix, params=params, nfold=3,\n",
    "                    num_boost_round=50,early_stopping_rounds=10,metrics=\"rmse\", as_pandas=True, seed=123)"
   ]
  },
  {
   "cell_type": "code",
   "execution_count": 38,
   "metadata": {},
   "outputs": [
    {
     "data": {
      "text/html": [
       "<div>\n",
       "<style scoped>\n",
       "    .dataframe tbody tr th:only-of-type {\n",
       "        vertical-align: middle;\n",
       "    }\n",
       "\n",
       "    .dataframe tbody tr th {\n",
       "        vertical-align: top;\n",
       "    }\n",
       "\n",
       "    .dataframe thead th {\n",
       "        text-align: right;\n",
       "    }\n",
       "</style>\n",
       "<table border=\"1\" class=\"dataframe\">\n",
       "  <thead>\n",
       "    <tr style=\"text-align: right;\">\n",
       "      <th></th>\n",
       "      <th>train-rmse-mean</th>\n",
       "      <th>train-rmse-std</th>\n",
       "      <th>test-rmse-mean</th>\n",
       "      <th>test-rmse-std</th>\n",
       "    </tr>\n",
       "  </thead>\n",
       "  <tbody>\n",
       "    <tr>\n",
       "      <th>0</th>\n",
       "      <td>48.913515</td>\n",
       "      <td>3.259595</td>\n",
       "      <td>48.633692</td>\n",
       "      <td>7.169555</td>\n",
       "    </tr>\n",
       "    <tr>\n",
       "      <th>1</th>\n",
       "      <td>47.471805</td>\n",
       "      <td>2.849272</td>\n",
       "      <td>47.504131</td>\n",
       "      <td>7.508048</td>\n",
       "    </tr>\n",
       "    <tr>\n",
       "      <th>2</th>\n",
       "      <td>47.067759</td>\n",
       "      <td>2.775241</td>\n",
       "      <td>47.291158</td>\n",
       "      <td>7.512225</td>\n",
       "    </tr>\n",
       "    <tr>\n",
       "      <th>3</th>\n",
       "      <td>45.864952</td>\n",
       "      <td>2.911386</td>\n",
       "      <td>46.137100</td>\n",
       "      <td>7.520384</td>\n",
       "    </tr>\n",
       "    <tr>\n",
       "      <th>4</th>\n",
       "      <td>44.447618</td>\n",
       "      <td>3.475532</td>\n",
       "      <td>44.991017</td>\n",
       "      <td>6.692479</td>\n",
       "    </tr>\n",
       "  </tbody>\n",
       "</table>\n",
       "</div>"
      ],
      "text/plain": [
       "   train-rmse-mean  train-rmse-std  test-rmse-mean  test-rmse-std\n",
       "0        48.913515        3.259595       48.633692       7.169555\n",
       "1        47.471805        2.849272       47.504131       7.508048\n",
       "2        47.067759        2.775241       47.291158       7.512225\n",
       "3        45.864952        2.911386       46.137100       7.520384\n",
       "4        44.447618        3.475532       44.991017       6.692479"
      ]
     },
     "execution_count": 38,
     "metadata": {},
     "output_type": "execute_result"
    }
   ],
   "source": [
    "cv_results.head()"
   ]
  },
  {
   "cell_type": "code",
   "execution_count": 42,
   "metadata": {
    "scrolled": true,
    "tags": []
   },
   "outputs": [
    {
     "name": "stdout",
     "output_type": "stream",
     "text": [
      "0     48.633692\n",
      "1     47.504131\n",
      "2     47.291158\n",
      "3     46.137100\n",
      "4     44.991017\n",
      "5     44.909231\n",
      "6     44.829500\n",
      "7     44.401410\n",
      "8     44.269742\n",
      "9     43.982852\n",
      "10    43.901987\n",
      "11    43.836108\n",
      "12    43.567015\n",
      "13    43.539997\n",
      "14    43.486572\n",
      "15    43.451323\n",
      "16    43.420437\n",
      "17    43.215566\n",
      "18    43.214312\n",
      "19    43.192462\n",
      "20    43.182551\n",
      "21    43.149628\n",
      "22    43.026566\n",
      "23    43.026600\n",
      "24    42.998810\n",
      "25    42.990390\n",
      "26    42.871517\n",
      "27    42.870941\n",
      "28    42.863827\n",
      "29    42.838098\n",
      "30    42.825582\n",
      "31    42.703445\n",
      "32    42.692840\n",
      "33    42.685454\n",
      "34    42.368796\n",
      "35    42.236308\n",
      "36    41.979579\n",
      "37    41.539197\n",
      "38    41.427348\n",
      "39    41.430517\n",
      "40    40.983664\n",
      "41    40.917549\n",
      "42    40.915363\n",
      "43    40.910252\n",
      "44    40.908402\n",
      "45    40.746158\n",
      "46    40.746823\n",
      "47    40.734016\n",
      "48    40.730965\n",
      "49    40.733135\n",
      "Name: test-rmse-mean, dtype: float64\n"
     ]
    }
   ],
   "source": [
    "print((cv_results[\"test-rmse-mean\"]))"
   ]
  },
  {
   "cell_type": "code",
   "execution_count": 43,
   "metadata": {},
   "outputs": [
    {
     "data": {
      "text/plain": [
       "0.26048316356814205"
      ]
     },
     "execution_count": 43,
     "metadata": {},
     "output_type": "execute_result"
    }
   ],
   "source": [
    "from sklearn.metrics import r2_score\n",
    "metrics.r2_score(y_test,y_pred)"
   ]
  },
  {
   "cell_type": "code",
   "execution_count": 44,
   "metadata": {},
   "outputs": [],
   "source": [
    "xparamgrid = {\n",
    "    'n_estimators':[100,200,300],\n",
    "    'max_depth':[3,5,7],\n",
    "    'learning_rate':[0.1,0.01,0.001],\n",
    "}\n",
    "n = 5"
   ]
  },
  {
   "cell_type": "code",
   "execution_count": 45,
   "metadata": {},
   "outputs": [
    {
     "name": "stdout",
     "output_type": "stream",
     "text": [
      "Fitting 5 folds for each of 27 candidates, totalling 135 fits\n"
     ]
    }
   ],
   "source": [
    "xmodel = xgb.XGBRegressor()\n",
    "xgrid = GridSearchCV(estimator=xmodel, param_grid=xparamgrid, cv=n, scoring='r2', verbose=1, n_jobs=-1)\n",
    "xgrid_result = xgrid.fit(x_train,y_train)"
   ]
  },
  {
   "cell_type": "code",
   "execution_count": 46,
   "metadata": {},
   "outputs": [
    {
     "name": "stdout",
     "output_type": "stream",
     "text": [
      "The best hyperparameter settings achieve a cross-validated R^2 of: 0.9202186845213243\n",
      "The best hyperparameter settings:\n",
      "{'learning_rate': 0.1, 'max_depth': 7, 'n_estimators': 300}\n"
     ]
    }
   ],
   "source": [
    "xbest_r2 = xgrid_result.best_score_\n",
    "print(f'The best hyperparameter settings achieve a cross-validated R^2 of: {xbest_r2}')\n",
    "print(f'The best hyperparameter settings:\\n{xgrid_result.best_params_}')"
   ]
  },
  {
   "cell_type": "code",
   "execution_count": 47,
   "metadata": {},
   "outputs": [],
   "source": [
    "data_dmatrix = xgb.DMatrix(data=X,label=y)\n",
    "\n",
    "xg_reg = xgb.XGBRegressor(objective ='reg:squarederror', colsample_bytree = 0.3, learning_rate = 0.1,\n",
    "                max_depth = 7, alpha = 10, n_estimators = 300)"
   ]
  },
  {
   "cell_type": "code",
   "execution_count": 51,
   "metadata": {},
   "outputs": [
    {
     "name": "stdout",
     "output_type": "stream",
     "text": [
      "RMSE: 17.904662\n"
     ]
    }
   ],
   "source": [
    "xg_reg.fit(x_train,y_train)\n",
    "\n",
    "y_pred = xg_reg.predict(x_test)\n",
    "\n",
    "rmse = np.sqrt(metrics.mean_squared_error(y_test, preds))\n",
    "print(\"RMSE: %f\" % (rmse))"
   ]
  },
  {
   "cell_type": "code",
   "execution_count": 52,
   "metadata": {},
   "outputs": [
    {
     "name": "stdout",
     "output_type": "stream",
     "text": [
      "R^2 on the test set:\t0.7908910975291115\n"
     ]
    }
   ],
   "source": [
    "r3_test = metrics.r2_score(y_test, y_pred)\n",
    "print(f'R^2 on the test set:\\t{r3_test}')"
   ]
  },
  {
   "cell_type": "code",
   "execution_count": 55,
   "metadata": {},
   "outputs": [],
   "source": [
    "from sklearn.model_selection import cross_val_score\n",
    "train_score = cross_val_score(xg_reg,x_train,y_train,cv=10)"
   ]
  },
  {
   "cell_type": "code",
   "execution_count": 58,
   "metadata": {},
   "outputs": [
    {
     "name": "stdout",
     "output_type": "stream",
     "text": [
      "XGBRegressor:\tScore:\n",
      "\t73.0\n"
     ]
    }
   ],
   "source": [
    "print(f'XGBRegressor:\\tScore:\\n\\t{round(train_score.mean(),2)*100}')"
   ]
  },
  {
   "cell_type": "code",
   "execution_count": 59,
   "metadata": {},
   "outputs": [
    {
     "data": {
      "text/plain": [
       "array([0.64846409, 0.81251957, 0.83912963, 0.54885857, 0.85767131,\n",
       "       0.59255067, 0.65155959, 0.81652239, 0.79175726, 0.73650914])"
      ]
     },
     "execution_count": 59,
     "metadata": {},
     "output_type": "execute_result"
    }
   ],
   "source": [
    "train_score"
   ]
  },
  {
   "cell_type": "markdown",
   "metadata": {},
   "source": [
    "### Feature Engineering"
   ]
  },
  {
   "cell_type": "markdown",
   "metadata": {},
   "source": [
    "Feature engineering will play a crucial role in this problems. We have only very little attributes so we need to create some features that will have some predictive power.\n",
    "\n",
    "- weather: we can use some weather API to look for the weather in time of the scheduled departure and scheduled arrival.\n",
    "- statistics (avg, mean, median, std, min, max...): we can take a look at previous delays and compute descriptive statistics\n",
    "- airports encoding: we need to think about what to do with the airports and other categorical variables\n",
    "- time of the day: the delay probably depends on the airport traffic which varies during the day.\n",
    "- airport traffic\n",
    "- unsupervised learning as feature engineering?\n",
    "- **what are the additional options?**: Think about what we could do more to improve the model."
   ]
  },
  {
   "cell_type": "code",
   "execution_count": null,
   "metadata": {},
   "outputs": [],
   "source": []
  },
  {
   "cell_type": "code",
   "execution_count": null,
   "metadata": {},
   "outputs": [],
   "source": []
  },
  {
   "cell_type": "code",
   "execution_count": null,
   "metadata": {},
   "outputs": [],
   "source": []
  },
  {
   "cell_type": "code",
   "execution_count": null,
   "metadata": {},
   "outputs": [],
   "source": []
  },
  {
   "cell_type": "code",
   "execution_count": null,
   "metadata": {},
   "outputs": [],
   "source": []
  },
  {
   "cell_type": "markdown",
   "metadata": {},
   "source": [
    "### Feature Selection / Dimensionality Reduction"
   ]
  },
  {
   "cell_type": "markdown",
   "metadata": {},
   "source": [
    "We need to apply different selection techniques to find out which one will be the best for our problems.\n",
    "\n",
    "- Original Features vs. PCA conponents?"
   ]
  },
  {
   "cell_type": "code",
   "execution_count": null,
   "metadata": {},
   "outputs": [],
   "source": []
  },
  {
   "cell_type": "code",
   "execution_count": null,
   "metadata": {},
   "outputs": [],
   "source": []
  },
  {
   "cell_type": "code",
   "execution_count": null,
   "metadata": {},
   "outputs": [],
   "source": []
  },
  {
   "cell_type": "code",
   "execution_count": null,
   "metadata": {},
   "outputs": [],
   "source": []
  },
  {
   "cell_type": "code",
   "execution_count": null,
   "metadata": {},
   "outputs": [],
   "source": []
  },
  {
   "cell_type": "markdown",
   "metadata": {},
   "source": [
    "### Modeling"
   ]
  },
  {
   "cell_type": "markdown",
   "metadata": {},
   "source": [
    "Use different ML techniques to predict each problem.\n",
    "\n",
    "- linear / logistic / multinomial logistic regression\n",
    "- Naive Bayes\n",
    "- Random Forest\n",
    "- SVM\n",
    "- XGBoost\n",
    "- The ensemble of your own choice"
   ]
  },
  {
   "cell_type": "code",
   "execution_count": null,
   "metadata": {},
   "outputs": [],
   "source": []
  },
  {
   "cell_type": "code",
   "execution_count": null,
   "metadata": {},
   "outputs": [],
   "source": []
  },
  {
   "cell_type": "code",
   "execution_count": null,
   "metadata": {},
   "outputs": [],
   "source": []
  },
  {
   "cell_type": "code",
   "execution_count": null,
   "metadata": {},
   "outputs": [],
   "source": []
  },
  {
   "cell_type": "markdown",
   "metadata": {},
   "source": [
    "### Evaluation"
   ]
  },
  {
   "cell_type": "markdown",
   "metadata": {},
   "source": [
    "You have data from 2018 and 2019 to develop models. Use different evaluation metrics for each problem and compare the performance of different models.\n",
    "\n",
    "You are required to predict delays on **out of sample** data from **first 7 days (1st-7th) of January 2020** and to share the file with LighthouseLabs. Sample submission can be found in the file **_sample_submission.csv_**"
   ]
  },
  {
   "cell_type": "code",
   "execution_count": null,
   "metadata": {},
   "outputs": [],
   "source": []
  },
  {
   "cell_type": "code",
   "execution_count": null,
   "metadata": {},
   "outputs": [],
   "source": []
  },
  {
   "cell_type": "code",
   "execution_count": null,
   "metadata": {},
   "outputs": [],
   "source": []
  },
  {
   "cell_type": "code",
   "execution_count": null,
   "metadata": {},
   "outputs": [],
   "source": []
  },
  {
   "cell_type": "markdown",
   "metadata": {},
   "source": [
    "======================================================================\n",
    "## Stretch Tasks"
   ]
  },
  {
   "cell_type": "markdown",
   "metadata": {},
   "source": [
    "### Multiclass Classification"
   ]
  },
  {
   "cell_type": "markdown",
   "metadata": {},
   "source": [
    "The target variables are **CARRIER_DELAY, WEATHER_DELAY, NAS_DELAY, SECURITY_DELAY, LATE_AIRCRAFT_DELAY**. We need to do additional transformations because these variables are not binary but continuos. For each flight that was delayed, we need to have one of these variables as 1 and others 0.\n",
    "\n",
    "It can happen that we have two types of delays with more than 0 minutes. In this case, take the bigger one as 1 and others as 0."
   ]
  },
  {
   "cell_type": "code",
   "execution_count": null,
   "metadata": {},
   "outputs": [],
   "source": []
  },
  {
   "cell_type": "code",
   "execution_count": null,
   "metadata": {},
   "outputs": [],
   "source": []
  },
  {
   "cell_type": "code",
   "execution_count": null,
   "metadata": {},
   "outputs": [],
   "source": []
  },
  {
   "cell_type": "markdown",
   "metadata": {},
   "source": [
    "### Binary Classification"
   ]
  },
  {
   "cell_type": "markdown",
   "metadata": {},
   "source": [
    "The target variable is **CANCELLED**. The main problem here is going to be huge class imbalance. We have only very little cancelled flights with comparison to all flights. It is important to do the right sampling before training and to choose correct evaluation metrics."
   ]
  },
  {
   "cell_type": "code",
   "execution_count": null,
   "metadata": {},
   "outputs": [],
   "source": []
  },
  {
   "cell_type": "code",
   "execution_count": null,
   "metadata": {},
   "outputs": [],
   "source": []
  },
  {
   "cell_type": "code",
   "execution_count": null,
   "metadata": {},
   "outputs": [],
   "source": []
  }
 ],
 "metadata": {
  "kernelspec": {
   "display_name": "Python [conda env:blhl] *",
   "language": "python",
   "name": "conda-env-blhl-py"
  },
  "language_info": {
   "codemirror_mode": {
    "name": "ipython",
    "version": 3
   },
   "file_extension": ".py",
   "mimetype": "text/x-python",
   "name": "python",
   "nbconvert_exporter": "python",
   "pygments_lexer": "ipython3",
   "version": "3.7.11"
  }
 },
 "nbformat": 4,
 "nbformat_minor": 4
}
